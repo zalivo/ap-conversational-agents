{
 "cells": [
  {
   "cell_type": "code",
   "execution_count": 4,
   "metadata": {},
   "outputs": [
    {
     "name": "stdout",
     "output_type": "stream",
     "text": [
      "Note: you may need to restart the kernel to use updated packages.\n",
      "Note: you may need to restart the kernel to use updated packages.\n",
      "Note: you may need to restart the kernel to use updated packages.\n",
      "Note: you may need to restart the kernel to use updated packages.\n",
      "Note: you may need to restart the kernel to use updated packages.\n",
      "Note: you may need to restart the kernel to use updated packages.\n",
      "Note: you may need to restart the kernel to use updated packages.\n",
      "Note: you may need to restart the kernel to use updated packages.\n"
     ]
    }
   ],
   "source": [
    "%pip install azure-cognitiveservices-speech --quiet\n",
    "%pip install openai==1.30.1 --quiet\n",
    "%pip install sounddevice --quiet\n",
    "%pip install azure-ai-formrecognizer azure-cognitiveservices-speech azure-identity --quiet\n",
    "%pip install load_dotenv --quiet\n",
    "%pip install prompt_toolkit --quiet\n",
    "%pip install azure-storage-blob --quiet\n",
    "%pip install neo4j --quiet\n"
   ]
  },
  {
   "cell_type": "code",
   "execution_count": 2,
   "metadata": {
    "vscode": {
     "languageId": "ruby"
    }
   },
   "outputs": [
    {
     "name": "stdout",
     "output_type": "stream",
     "text": [
      "Speech API Key: f07276fad5414743b35c407402f0e57d\n",
      "Speech Region: swedencentral\n",
      "Whisper API Key: ad0371a819a94fafba0e78d596097a45\n",
      "Whisper Endpoint: https://ut-oai-sweden.openai.azure.com/\n",
      "Whisper Deployment: whisper\n",
      "GPT API Key: 8873c265d70546a3a87dcb073310a16b\n",
      "GPT Deployment: gpt-4o\n",
      "GPT Endpoint: https://ut-oai-eastus.openai.azure.com/\n",
      "Storage Endpoint: https://stutwenteai759783997450.blob.core.windows.net/\n",
      "Storage SAS Token: sv=2022-11-02&ss=b&srt=co&sp=rl&se=2024-09-24T02:44:59Z&st=2024-06-02T18:44:59Z&spr=https&sig=5bc8o%2F1eSUUYSp5%2FwmrXESAdZJYz%2BqEIRkXaKnvE3gY%3D\n"
     ]
    }
   ],
   "source": [
    "import os\n",
    "from dotenv import load_dotenv\n",
    "\n",
    "# Load environment variables from .env file\n",
    "load_dotenv('.env')\n",
    "\n",
    "# Access the environment variables\n",
    "speech_key = os.getenv('SPEECH_KEY')\n",
    "speech_region = os.getenv('SPEECH_REGION')\n",
    "whisper_key = os.getenv('WHISPER_KEY')\n",
    "whisper_endpoint = os.getenv('WHISPER_ENDPOINT')\n",
    "whisper_deployment = os.getenv('WHISPER_DEPLOYMENT')\n",
    "gpt_key = os.getenv('GPT_KEY')\n",
    "gpt_deployment = os.getenv('GPT_DEPLOYMENT')\n",
    "gpt_endpoint = os.getenv('GPT_ENDPOINT')\n",
    "storage_endpoint = os.getenv('AZURE_STORAGE_ENDPOINT')\n",
    "storage_sas = os.getenv('AZURE_STORAGE_SAS_TOKEN')\n",
    "\n",
    "# Use the environment variables in your code\n",
    "print(f'Speech API Key: {speech_key}')\n",
    "print(f'Speech Region: {speech_region}')\n",
    "print(f'Whisper API Key: {whisper_key}')\n",
    "print(f'Whisper Endpoint: {whisper_endpoint}')\n",
    "print(f'Whisper Deployment: {whisper_deployment}')\n",
    "print(f'GPT API Key: {gpt_key}')\n",
    "print(f'GPT Deployment: {gpt_deployment}')\n",
    "print(f'GPT Endpoint: {gpt_endpoint}')\n",
    "print(f'Storage Endpoint: {storage_endpoint}')\n",
    "print(f'Storage SAS Token: {storage_sas}')"
   ]
  },
  {
   "cell_type": "code",
   "execution_count": 11,
   "metadata": {},
   "outputs": [
    {
     "name": "stdout",
     "output_type": "stream",
     "text": [
      "Speak into your microphone.\n",
      "Hello there.\n"
     ]
    }
   ],
   "source": [
    "import azure.cognitiveservices.speech as speechsdk\n",
    "\n",
    "def recognize_from_microphone():\n",
    "    # This example requires environment variables named \"SPEECH_KEY\" and \"SPEECH_REGION\"\n",
    "    speech_config = speechsdk.SpeechConfig(subscription=speech_key, region=speech_region)\n",
    "    speech_config.speech_recognition_language=\"en-US\"\n",
    "\n",
    "    audio_config = speechsdk.audio.AudioConfig(use_default_microphone=True)\n",
    "    speech_recognizer = speechsdk.SpeechRecognizer(speech_config=speech_config, audio_config=audio_config)\n",
    "\n",
    "    print(\"Speak into your microphone.\")\n",
    "    speech_recognition_result = speech_recognizer.recognize_once_async().get()\n",
    "\n",
    "    if speech_recognition_result.reason == speechsdk.ResultReason.RecognizedSpeech:\n",
    "        #print(\"Recognized: {}\".format(speech_recognition_result.text))\n",
    "        return speech_recognition_result.text\n",
    "    elif speech_recognition_result.reason == speechsdk.ResultReason.NoMatch:\n",
    "        print(\"No speech could be recognized: {}\".format(speech_recognition_result.no_match_details))\n",
    "    elif speech_recognition_result.reason == speechsdk.ResultReason.Canceled:\n",
    "        cancellation_details = speech_recognition_result.cancellation_details\n",
    "        print(\"Speech Recognition canceled: {}\".format(cancellation_details.reason))\n",
    "        if cancellation_details.reason == speechsdk.CancellationReason.Error:\n",
    "            print(\"Error details: {}\".format(cancellation_details.error_details))\n",
    "            print(\"Did you set the speech resource key and region values?\")\n",
    "\n",
    "text = recognize_from_microphone()\n",
    "print(text)"
   ]
  },
  {
   "cell_type": "code",
   "execution_count": null,
   "metadata": {},
   "outputs": [],
   "source": [
    "from openai import AzureOpenAI\n",
    "\n",
    "client = AzureOpenAI(\n",
    "    api_key=whisper_key,\n",
    "    api_version=\"2024-02-01\",\n",
    "    azure_endpoint = whisper_endpoint\n",
    ")\n",
    "\n",
    "audio_test_file = \"./helloThere.m4a\"\n",
    "\n",
    "result = client.audio.transcriptions.create(\n",
    "    file=open(audio_test_file, \"rb\"),            \n",
    "    model=whisper_deployment\n",
    ")\n",
    "\n",
    "print(result)"
   ]
  },
  {
   "cell_type": "code",
   "execution_count": 17,
   "metadata": {},
   "outputs": [
    {
     "name": "stdout",
     "output_type": "stream",
     "text": [
      "Speech synthesized for text [Hi, this is Ryan]\n"
     ]
    }
   ],
   "source": [
    "'''\n",
    "  For more samples please visit https://github.com/Azure-Samples/cognitive-services-speech-sdk \n",
    "'''\n",
    "\n",
    "import azure.cognitiveservices.speech as speechsdk\n",
    "\n",
    "speech_config = speechsdk.SpeechConfig(subscription=speech_key, region=speech_region)\n",
    "# Note: the voice setting will not overwrite the voice element in input SSML.\n",
    "speech_config.speech_synthesis_voice_name = \"en-GB-RyanNeural\"\n",
    "\n",
    "text = \"Hi, this is Ryan\"\n",
    "\n",
    "def text_to_speech(text):\n",
    "  # use the default speaker as audio output.\n",
    "  speech_synthesizer = speechsdk.SpeechSynthesizer(speech_config=speech_config)\n",
    "  result = speech_synthesizer.speak_text_async(text).get()\n",
    "  # Check result\n",
    "  if result.reason == speechsdk.ResultReason.SynthesizingAudioCompleted:\n",
    "      print(\"Speech synthesized for text [{}]\".format(text))\n",
    "  elif result.reason == speechsdk.ResultReason.Canceled:\n",
    "      cancellation_details = result.cancellation_details\n",
    "      print(\"Speech synthesis canceled: {}\".format(cancellation_details.reason))\n",
    "      if cancellation_details.reason == speechsdk.CancellationReason.Error:\n",
    "          print(\"Error details: {}\".format(cancellation_details.error_details))\n",
    "\n",
    "text_to_speech(text)\n",
    "\n"
   ]
  },
  {
   "cell_type": "code",
   "execution_count": null,
   "metadata": {},
   "outputs": [],
   "source": [
    "import os\n",
    "from azure.storage.blob import BlobServiceClient\n",
    "\n",
    "\n",
    "# Create the BlobServiceClient object using the account URL and SAS token\n",
    "blob_service_client = BlobServiceClient(account_url=storage_endpoint, credential=storage_sas)\n",
    "blob_container_client = blob_service_client.get_container_client(\"paintings\")\n",
    "blob_list = blob_container_client.list_blobs()\n",
    "\n",
    "for blob in blob_list:\n",
    "    print(blob.name)"
   ]
  },
  {
   "cell_type": "code",
   "execution_count": 7,
   "metadata": {},
   "outputs": [
    {
     "name": "stdout",
     "output_type": "stream",
     "text": [
      "Node Name: King Caspar\n",
      "Image URL: https://upload.wikimedia.org/wikipedia/commons/thumb/e/e5/Hendrick-Heerschop-Koning-Caspar-1654.-Olieverf-op-paneel.-Berlijn-Staatliche-Museen.jpg/485px-Hendrick-Heerschop-Koning-Caspar-1654.-Olieverf-op-paneel.-Berlijn-Staatliche-Museen.jpg\n",
      "Description: Legend has it that one of the three magi who came to worship the Christ child was an African. Sometimes he is called Caspar, sometimes Balthasar. Heerschop painted him without surroundings or story. He can only be identified from his expensive clothes and the jar of incense he gave as his gift. But it is the man’s face that attracts the most attention; he looks at us proudly and self-confidently.\n"
     ]
    }
   ],
   "source": [
    "from neo4j import GraphDatabase\n",
    "\n",
    "\n",
    "# Replace these with your Neo4j connection details\n",
    "uri = \"bolt://localhost:7687\"  # Update this with your database URI\n",
    "user = \"neo4j\"                 # Update this with your database username\n",
    "password = \"Pa$$w0rd\"          # Update this with your database password\n",
    "\n",
    "# Create a Neo4j driver instance\n",
    "driver = GraphDatabase.driver(uri, auth=(user, password))\n",
    "\n",
    "def get_cultural_heritage_node(name):\n",
    "    with driver.session() as session:\n",
    "        result = session.run(\"MATCH (n:CulturalHeritage {name: $name}) RETURN n\", name=name)\n",
    "        return [record[\"n\"] for record in result]\n",
    "\n",
    "# Query for a specific CulturalHeritage node by name\n",
    "node_name = \"King Caspar\"\n",
    "nodes = get_cultural_heritage_node(node_name)\n",
    "\n",
    "# Extract the img URL and exhibit description\n",
    "if nodes:\n",
    "    node = nodes[0]  # Assuming you want the first node in the result\n",
    "    properties = node._properties  # Access the properties of the node\n",
    "\n",
    "    # Extract the `img` URL and `exhibit` description\n",
    "    img_url = properties.get('img', 'No image URL found')\n",
    "    exhibit_description = properties.get('exhibit', 'No description found')\n",
    "    node_name = properties.get('name', 'No name found')\n",
    "\n",
    "    print(\"Painting Name:\", node_name)\n",
    "    print(\"Image URL:\", img_url)\n",
    "    print(\"Description:\", exhibit_description)\n",
    "else:\n",
    "    print(\"No nodes found\")\n",
    "\n",
    "# Close the driver connection\n",
    "driver.close()"
   ]
  },
  {
   "cell_type": "code",
   "execution_count": 15,
   "metadata": {},
   "outputs": [
    {
     "name": "stdout",
     "output_type": "stream",
     "text": [
      "Painting: https://upload.wikimedia.org/wikipedia/commons/thumb/e/e5/Hendrick-Heerschop-Koning-Caspar-1654.-Olieverf-op-paneel.-Berlijn-Staatliche-Museen.jpg/485px-Hendrick-Heerschop-Koning-Caspar-1654.-Olieverf-op-paneel.-Berlijn-Staatliche-Museen.jpg\n"
     ]
    },
    {
     "data": {
      "text/html": [
       "<img src=\"https://upload.wikimedia.org/wikipedia/commons/thumb/e/e5/Hendrick-Heerschop-Koning-Caspar-1654.-Olieverf-op-paneel.-Berlijn-Staatliche-Museen.jpg/485px-Hendrick-Heerschop-Koning-Caspar-1654.-Olieverf-op-paneel.-Berlijn-Staatliche-Museen.jpg\"/>"
      ],
      "text/plain": [
       "<IPython.core.display.Image object>"
      ]
     },
     "metadata": {},
     "output_type": "display_data"
    },
    {
     "name": "stdout",
     "output_type": "stream",
     "text": [
      "Sure, John. The painting you're referring to is of King Caspar, created by Hendrick Heerschop in 1654. It's interesting because it depicts one of the magi, believed by legend to be an African king who came to worship the Christ child. Heerschop painted him without any background or narrative elements. The identity comes through his elaborate clothing and the jar of incense, his gift. However, the most captivating aspect is his face, which exudes pride and self-confidence.\n"
     ]
    }
   ],
   "source": [
    "from promptflow.core import Prompty\n",
    "from IPython.display import Image\n",
    "\n",
    "image_path = img_url\n",
    "print(\"Painting: \" + image_path)\n",
    "display(Image(url=image_path))\n",
    "firstName = \"John\"\n",
    "context = f\"Painting Name: {node_name} Painting Information: {exhibit_description}\"\n",
    "question = \"What can you tell me about the painting?\"\n",
    "\n",
    "def get_oai_response(firstName=firstName, context=context, question=question, image_path=image_path, conversation_history=[]):\n",
    "    path_to_prompty = \"basic.prompty\"\n",
    "    flow = Prompty.load(path_to_prompty)\n",
    "    result = flow(\n",
    "        firstName = firstName,\n",
    "        context = context,\n",
    "        question = question,\n",
    "        image = image_path,\n",
    "        conversation_history = conversation_history\n",
    "    )\n",
    "\n",
    "    return result\n",
    "\n",
    "result = get_oai_response(firstName=firstName, question=\"What can you tell me about the painting?\", image_path=image_path)\n",
    "print(result)"
   ]
  },
  {
   "cell_type": "code",
   "execution_count": null,
   "metadata": {},
   "outputs": [],
   "source": [
    "from IPython.display import Image, display\n",
    "\n",
    "# URL of the image\n",
    "image_url = \"https://th.bing.com/th/id/R.842fb9a1885e50a762ef352821d9078d?rik=ykwt7kPK%2f3ngFA&riu=http%3a%2f%2fupload.wikimedia.org%2fwikipedia%2fcommons%2fe%2fe8%2fVan_Gogh_The_Olive_Trees..jpg&ehk=o8ZPcWcu3H0Vdk%2b2E5YJ63CXJSSHb3BFrzKL3UG5HOU%3d&risl=1&pid=ImgRaw&r=0\"\n",
    "\n",
    "# Display the image\n",
    "display(Image(url=image_url))\n"
   ]
  },
  {
   "cell_type": "code",
   "execution_count": 18,
   "metadata": {},
   "outputs": [
    {
     "name": "stdout",
     "output_type": "stream",
     "text": [
      "Painting: https://upload.wikimedia.org/wikipedia/commons/thumb/e/e5/Hendrick-Heerschop-Koning-Caspar-1654.-Olieverf-op-paneel.-Berlijn-Staatliche-Museen.jpg/485px-Hendrick-Heerschop-Koning-Caspar-1654.-Olieverf-op-paneel.-Berlijn-Staatliche-Museen.jpg\n"
     ]
    },
    {
     "data": {
      "text/html": [
       "<img src=\"https://upload.wikimedia.org/wikipedia/commons/thumb/e/e5/Hendrick-Heerschop-Koning-Caspar-1654.-Olieverf-op-paneel.-Berlijn-Staatliche-Museen.jpg/485px-Hendrick-Heerschop-Koning-Caspar-1654.-Olieverf-op-paneel.-Berlijn-Staatliche-Museen.jpg\"/>"
      ],
      "text/plain": [
       "<IPython.core.display.Image object>"
      ]
     },
     "metadata": {},
     "output_type": "display_data"
    },
    {
     "name": "stdout",
     "output_type": "stream",
     "text": [
      "Speak into your microphone.\n",
      "[]\n",
      "Of course, Linda! The painting is called \"King Caspar,\" created by Hendrick Heerschop in 1654. According to legend, King Caspar, also known as Balthasar, was one of the three magi who visited the Christ child. Heerschop's painting doesn't include any surroundings or story elements, but we can identify Caspar by his luxurious attire and the jar of incense he brought as a gift. The most captivating aspect of the painting is King Caspar's face, which Heerschop portrayed with a sense of pride and self-confidence.\n",
      "Speech synthesized for text [Of course, Linda! The painting is called \"King Caspar,\" created by Hendrick Heerschop in 1654. According to legend, King Caspar, also known as Balthasar, was one of the three magi who visited the Christ child. Heerschop's painting doesn't include any surroundings or story elements, but we can identify Caspar by his luxurious attire and the jar of incense he brought as a gift. The most captivating aspect of the painting is King Caspar's face, which Heerschop portrayed with a sense of pride and self-confidence.]\n",
      "Speak into your microphone.\n",
      "['\\nUser: Hello there, can you tell me about this painting?\\nAssistant: Of course, Linda! The painting is called \"King Caspar,\" created by Hendrick Heerschop in 1654. According to legend, King Caspar, also known as Balthasar, was one of the three magi who visited the Christ child. Heerschop\\'s painting doesn\\'t include any surroundings or story elements, but we can identify Caspar by his luxurious attire and the jar of incense he brought as a gift. The most captivating aspect of the painting is King Caspar\\'s face, which Heerschop portrayed with a sense of pride and self-confidence.\\n']\n",
      "Hi Linda, the object that King Caspar holds in his hand is a jar of incense. According to the legend, this was the gift he brought to worship the Christ child. It signifies reverence and devotion, and it's one of the elements that help identify him in the painting.\n",
      "Speech synthesized for text [Hi Linda, the object that King Caspar holds in his hand is a jar of incense. According to the legend, this was the gift he brought to worship the Christ child. It signifies reverence and devotion, and it's one of the elements that help identify him in the painting.]\n",
      "Speak into your microphone.\n",
      "['\\nUser: Hello there, can you tell me about this painting?\\nAssistant: Of course, Linda! The painting is called \"King Caspar,\" created by Hendrick Heerschop in 1654. According to legend, King Caspar, also known as Balthasar, was one of the three magi who visited the Christ child. Heerschop\\'s painting doesn\\'t include any surroundings or story elements, but we can identify Caspar by his luxurious attire and the jar of incense he brought as a gift. The most captivating aspect of the painting is King Caspar\\'s face, which Heerschop portrayed with a sense of pride and self-confidence.\\n', \"\\nUser: What can you tell me about this thing that he holds in his hand?\\nAssistant: Hi Linda, the object that King Caspar holds in his hand is a jar of incense. According to the legend, this was the gift he brought to worship the Christ child. It signifies reverence and devotion, and it's one of the elements that help identify him in the painting.\\n\"]\n",
      "Goodbye, Linda. If you have any more questions in the future, feel free to ask!\n",
      "Speech synthesized for text [Goodbye, Linda. If you have any more questions in the future, feel free to ask!]\n"
     ]
    }
   ],
   "source": [
    "conversation_history = []\n",
    "image_path = img_url\n",
    "print(\"Painting: \" + image_path)\n",
    "display(Image(url=image_path))\n",
    "firstName = \"Thomas\"\n",
    "context = f\"Painting Name: {node_name} Painting Information: {exhibit_description}\"\n",
    "\n",
    "def dialog():\n",
    "    text = recognize_from_microphone()\n",
    "    result = get_oai_response(firstName=firstName, context=context, question=text, image_path=image_path, conversation_history=conversation_history)\n",
    "    print(conversation_history)\n",
    "    print(result)\n",
    "    conversation_history.append(f'''\n",
    "User: {text}\n",
    "Assistant: {result}\n",
    "''')\n",
    "    speech = text_to_speech(result)\n",
    "    if \"goodbye\" in text.lower():\n",
    "        return\n",
    "    dialog()\n",
    "dialog()\n",
    "\n"
   ]
  }
 ],
 "metadata": {
  "kernelspec": {
   "display_name": "Python 3",
   "language": "python",
   "name": "python3"
  },
  "language_info": {
   "codemirror_mode": {
    "name": "ipython",
    "version": 3
   },
   "file_extension": ".py",
   "mimetype": "text/x-python",
   "name": "python",
   "nbconvert_exporter": "python",
   "pygments_lexer": "ipython3",
   "version": "3.11.9"
  }
 },
 "nbformat": 4,
 "nbformat_minor": 2
}
